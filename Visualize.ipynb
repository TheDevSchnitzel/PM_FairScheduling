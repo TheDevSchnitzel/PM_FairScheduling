{
 "cells": [
  {
   "cell_type": "markdown",
   "metadata": {},
   "source": [
    "# Quickstart Guide"
   ]
  },
  {
   "cell_type": "markdown",
   "metadata": {},
   "source": [
    "### Imports"
   ]
  },
  {
   "cell_type": "code",
   "execution_count": null,
   "metadata": {},
   "outputs": [],
   "source": [
    "import pm4py\n",
    "import utils.extractor as extractor\n",
    "import utils.frames as frames\n",
    "import math\n",
    "from simulation.simulator import Simulator\n",
    "from simulation.objects.enums import Callbacks, SimulationModes, TimestampModes, OptimizationModes, SchedulingBehaviour\n",
    "import utils.fairness as Fairness\n",
    "import utils.congestion as Congestion\n",
    "import utils.optimization as Optimization\n",
    "from utils.activityDuration import EventDurationsByMinPossibleTime\n",
    "\n",
    "from visualization.congestion import Show as ShowCongestion\n",
    "from visualization.fairness import Show as ShowFairness"
   ]
  },
  {
   "cell_type": "markdown",
   "metadata": {},
   "source": [
    "### Parameters"
   ]
  },
  {
   "cell_type": "code",
   "execution_count": null,
   "metadata": {},
   "outputs": [],
   "source": [
    "#originalLogPath  = \"H:/BPI_Challenge_2017.xes\"\n",
    "#simulatedLogPath = \"H:/BPI_Challenge_2017_CONGESTION.xes\"\n",
    "\n",
    "originalLogPath  = \"logs/1_congested.xes\"\n",
    "simulatedLogPath = \"conN50.xes\" #\"conT50.xes\""
   ]
  },
  {
   "cell_type": "markdown",
   "metadata": {},
   "source": [
    "### Results"
   ]
  },
  {
   "cell_type": "code",
   "execution_count": null,
   "metadata": {},
   "outputs": [],
   "source": [
    "import matplotlib.pyplot as plt\n",
    "ShowCongestion(originalLogPath, simulatedLogPath)\n",
    "#plt.savefig('congestion.pdf')\n",
    "ShowFairness(originalLogPath, simulatedLogPath)\n",
    "#plt.savefig('fair.pdf')"
   ]
  }
 ],
 "metadata": {
  "kernelspec": {
   "display_name": "Python 3.10.8 ('HLEM')",
   "language": "python",
   "name": "python3"
  },
  "language_info": {
   "codemirror_mode": {
    "name": "ipython",
    "version": 3
   },
   "file_extension": ".py",
   "mimetype": "text/x-python",
   "name": "python",
   "nbconvert_exporter": "python",
   "pygments_lexer": "ipython3",
   "version": "3.10.8 | packaged by conda-forge | (main, Nov 24 2022, 14:07:00) [MSC v.1916 64 bit (AMD64)]"
  },
  "orig_nbformat": 4,
  "vscode": {
   "interpreter": {
    "hash": "767e56cc2fa847e35bfc5350e72ad71163d81d0f181e8d67c0cd87dfe8440e8f"
   }
  }
 },
 "nbformat": 4,
 "nbformat_minor": 2
}
