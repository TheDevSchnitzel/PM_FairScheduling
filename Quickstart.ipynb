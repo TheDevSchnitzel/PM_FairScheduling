{
 "cells": [
  {
   "cell_type": "markdown",
   "metadata": {},
   "source": [
    "# Quickstart Guide"
   ]
  },
  {
   "cell_type": "markdown",
   "metadata": {},
   "source": [
    "### Imports"
   ]
  },
  {
   "cell_type": "code",
   "execution_count": 1,
   "metadata": {},
   "outputs": [],
   "source": [
    "import pm4py\n",
    "import utils.extractor as extractor\n",
    "import utils.frames as frames\n",
    "import math\n",
    "import visualization.viz as viz\n",
    "from simulation.simulator import Simulator\n",
    "from simulation.objects.enums import Callbacks, SimulationModes, TimestampModes, OptimizationModes, SchedulingBehaviour\n",
    "import utils.fairness as Fairness\n",
    "import utils.congestion as Congestion\n",
    "import utils.optimization as Optimization\n",
    "import numpy as np\n",
    "import matplotlib.pyplot as plt\n",
    "from temp.WorkDistribution import GetActivityResourceMapping\n",
    "from utils.activityDuration import EventDurationsByMinPossibleTime"
   ]
  },
  {
   "cell_type": "markdown",
   "metadata": {},
   "source": [
    "### Parameters"
   ]
  },
  {
   "cell_type": "code",
   "execution_count": 2,
   "metadata": {},
   "outputs": [],
   "source": [
    "originalLogPath  = 'logs/log_ResReduced.xes'\n",
    "simulatedLogPath = 'logs/jupyterQuickstart_log_ResReduced.xes'\n",
    "\n",
    "FAIRNESS_BACKLOG_N   = 50\n",
    "CONGESTION_BACKLOG_N = 50\n",
    "\n",
    "simulationMode      = SimulationModes.KNOWN_FUTURE, #PREDICTED_FUTURE\n",
    "optimizationMode    = OptimizationModes.FAIRNESS,   #CONGESTION, BOTH \n",
    "schedulingBehaviour = SchedulingBehaviour.CLEAR_ASSIGNMENTS_EACH_WINDOW, #KEEP_ASSIGNMENTS"
   ]
  },
  {
   "cell_type": "markdown",
   "metadata": {},
   "source": [
    "### Callbacks for the MIP-Scheduling"
   ]
  },
  {
   "cell_type": "code",
   "execution_count": 3,
   "metadata": {},
   "outputs": [],
   "source": [
    "def SimulatorFairness_Callback(simulatorState):\n",
    "    return Fairness.FairnessBacklogFair_TIME(simulatorState, BACKLOG_N=FAIRNESS_BACKLOG_N)"
   ]
  },
  {
   "cell_type": "code",
   "execution_count": 4,
   "metadata": {},
   "outputs": [],
   "source": [
    "def SimulatorCongestion_Callback(simulatorState):\n",
    "    #segmentFreq, segmentTime, waitingTraces = Congestion.GetActiveSegments(activeTraces, simTime, SimulationModes.KNOWN_FUTURE)\n",
    "    #return Congestion.GetProgressByWaitingNumberInFrontOfActivity(A, segmentFreq, waitingTraces)\n",
    "    return {}"
   ]
  },
  {
   "cell_type": "code",
   "execution_count": 5,
   "metadata": {},
   "outputs": [],
   "source": [
    "def SimulatorWindowStartScheduling_Callback(simulatorState, schedulingReadyResources, fRatio, cRatio):\n",
    "    return Optimization.OptimizeActiveTraces(simulatorState, schedulingReadyResources, fRatio, cRatio)"
   ]
  },
  {
   "cell_type": "markdown",
   "metadata": {},
   "source": [
    "### Simulator Setup"
   ]
  },
  {
   "cell_type": "code",
   "execution_count": 6,
   "metadata": {},
   "outputs": [
    {
     "name": "stderr",
     "output_type": "stream",
     "text": [
      "c:\\Users\\Alex\\miniconda3\\envs\\HLEM\\lib\\site-packages\\tqdm\\auto.py:22: TqdmWarning: IProgress not found. Please update jupyter and ipywidgets. See https://ipywidgets.readthedocs.io/en/stable/user_install.html\n",
      "  from .autonotebook import tqdm as notebook_tqdm\n",
      "parsing log, completed traces :: 100%|██████████| 7619/7619 [00:01<00:00, 5162.74it/s]\n"
     ]
    }
   ],
   "source": [
    "originalLog = pm4py.read_xes(originalLogPath)\n",
    "\n",
    "windowNumber = 100 * math.ceil(math.sqrt(sum([len(trace) for trace in originalLog])))\n",
    "\n",
    "# Convert XES-Events into dict {'act', 'ts', 'res', 'single', 'cid'}\n",
    "event_dict = extractor.event_dict(originalLog, res_info=True)\n",
    "\n",
    "windowWidth = frames.get_width_from_number(event_dict, windowNumber)\n",
    "bucketId_borders_dict = frames.bucket_window_dict_by_width(event_dict, windowWidth)\n",
    "eventsPerWindowDict, id_frame_mapping = frames.bucket_id_list_dict_by_width(event_dict, windowWidth) # WindowID: [List of EventIDs] , EventID: WindowID       "
   ]
  },
  {
   "cell_type": "code",
   "execution_count": 7,
   "metadata": {},
   "outputs": [],
   "source": [
    "sim = Simulator(event_dict, eventsPerWindowDict, bucketId_borders_dict, \n",
    "        simulationMode=simulationMode, optimizationMode=optimizationMode,schedulingBehaviour =schedulingBehaviour,\n",
    "        endTimestampAttribute='ts', verbose=False)\n",
    "    \n",
    "sim.Register(Callbacks.WND_START_SCHEDULING, SimulatorWindowStartScheduling_Callback)\n",
    "sim.Register(Callbacks.CALC_Fairness,        SimulatorFairness_Callback)\n",
    "sim.Register(Callbacks.CALC_Congestion,      SimulatorCongestion_Callback)\n",
    "sim.Register(Callbacks.CALC_EventDurations,  lambda x,y: EventDurationsByMinPossibleTime(x,y))"
   ]
  },
  {
   "cell_type": "code",
   "execution_count": 8,
   "metadata": {},
   "outputs": [
    {
     "name": "stdout",
     "output_type": "stream",
     "text": [
      "Progress: 99.95% complete - Traces (Active / Finished / Total):    1 / 7615 / 7619\n",
      "\n",
      "Total time for simulation 194.7s\n",
      "    -> Windows simulated 24486 (given: 24487 / additional: -1)\n"
     ]
    },
    {
     "name": "stderr",
     "output_type": "stream",
     "text": [
      "exporting log, completed traces :: 100%|██████████| 7619/7619 [00:00<00:00, 10892.86it/s]\n"
     ]
    }
   ],
   "source": [
    "# Run the simulation\n",
    "sim.Run()\n",
    "sim.ExportSimulationLog(simulatedLogPath)"
   ]
  },
  {
   "cell_type": "markdown",
   "metadata": {},
   "source": [
    "### Result"
   ]
  },
  {
   "cell_type": "code",
   "execution_count": 15,
   "metadata": {},
   "outputs": [
    {
     "name": "stderr",
     "output_type": "stream",
     "text": [
      "parsing log, completed traces :: 100%|██████████| 7619/7619 [00:01<00:00, 7251.51it/s] \n"
     ]
    },
    {
     "data": {
      "image/png": "[encoded data removed]",
      "text/plain": [
       "<Figure size 640x480 with 4 Axes>"
      ]
     },
     "metadata": {},
     "output_type": "display_data"
    }
   ],
   "source": [
    "simulatedLog = pm4py.read_xes(simulatedLogPath)\n",
    "\n",
    "dfOriginal, _  = GetActivityResourceMapping(originalLog)\n",
    "dfSimulated, _ = GetActivityResourceMapping(simulatedLog)\n",
    "\n",
    "# plot with various axes scales - https://matplotlib.org/3.1.1/gallery/pyplots/pyplot_scales.html#sphx-glr-gallery-pyplots-pyplot-scales-py\n",
    "plt.figure()\n",
    "\n",
    "def PlotChart(title, resources, data, plotargs):\n",
    "    y_pos = np.arange(len(resources))\n",
    "\n",
    "    plt.subplot(plotargs)\n",
    "    \n",
    "    # Create bars\n",
    "    plt.bar(y_pos, data)\n",
    "\n",
    "    # Create names on the x-axis\n",
    "    plt.xticks(y_pos, [str(r)[0:3] for r in resources])\n",
    "    plt.title(title)\n",
    "    plt.grid(False)\n",
    "\n",
    "PlotChart('Original - Time', dfOriginal['Resource'], dfOriginal['Relative-Time'], 221)\n",
    "PlotChart('Original - Work', dfOriginal['Resource'], dfOriginal['Relative-Activities'], 222)\n",
    "\n",
    "PlotChart('Simulated - Time', dfSimulated['Resource'], dfSimulated['Relative-Time'], 223)\n",
    "PlotChart('Simulated - Work', dfSimulated['Resource'], dfSimulated['Relative-Activities'], 224)\n",
    "\n",
    "# Set padding between subplots\n",
    "plt.subplots_adjust(hspace=0.35, wspace=0.35)\n",
    "plt.show()"
   ]
  }
 ],
 "metadata": {
  "kernelspec": {
   "display_name": "Python 3.10.6 ('HLEM')",
   "language": "python",
   "name": "python3"
  },
  "language_info": {
   "codemirror_mode": {
    "name": "ipython",
    "version": 3
   },
   "file_extension": ".py",
   "mimetype": "text/x-python",
   "name": "python",
   "nbconvert_exporter": "python",
   "pygments_lexer": "ipython3",
   "version": "3.10.6"
  },
  "orig_nbformat": 4,
  "vscode": {
   "interpreter": {
    "hash": "2d14a2a1f95ca6c6b23d9a32f31017a2db88c4427e307b81e9292a1e2e4457fd"
   }
  }
 },
 "nbformat": 4,
 "nbformat_minor": 2
}
