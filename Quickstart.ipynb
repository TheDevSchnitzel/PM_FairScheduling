{
 "cells": [
  {
   "cell_type": "markdown",
   "metadata": {},
   "source": [
    "# Quickstart Guide"
   ]
  },
  {
   "cell_type": "markdown",
   "metadata": {},
   "source": [
    "### Imports"
   ]
  },
  {
   "cell_type": "code",
   "execution_count": null,
   "metadata": {},
   "outputs": [],
   "source": [
    "import pm4py\n",
    "import utils.extractor as extractor\n",
    "import utils.frames as frames\n",
    "import math\n",
    "import visualization.viz as viz\n",
    "from simulation.simulator import Simulator\n",
    "from simulation.objects.enums import Callbacks, SimulationModes, TimestampModes, OptimizationModes, SchedulingBehaviour\n",
    "import utils.fairness as Fairness\n",
    "import utils.congestion as Congestion\n",
    "import utils.optimization as Optimization"
   ]
  },
  {
   "cell_type": "markdown",
   "metadata": {},
   "source": [
    "### Callbacks for the MIP-Scheduling"
   ]
  },
  {
   "cell_type": "code",
   "execution_count": null,
   "metadata": {},
   "outputs": [],
   "source": [
    "def SimulatorFairness_Callback(activeTraces, completedTraces, LonelyResources, R, windows, currentWindow):\n",
    "    return Fairness.FairnessBacklogFair_TIME(activeTraces, completedTraces, LonelyResources, R, windows, currentWindow, BACKLOG_N=scriptArgs.FairnessBacklogN)"
   ]
  },
  {
   "cell_type": "code",
   "execution_count": null,
   "metadata": {},
   "outputs": [],
   "source": [
    "def SimulatorCongestion_Callback(activeTraces, completedTraces, LonelyResources, A, R, windows, currentWindow, simTime):\n",
    "    segmentFreq, segmentTime, waitingTraces = Congestion.GetActiveSegments(activeTraces, simTime, SimulationModes.KNOWN_FUTURE)\n",
    "    return Congestion.GetProgressByWaitingNumberInFrontOfActivity(A, segmentFreq, waitingTraces)"
   ]
  },
  {
   "cell_type": "code",
   "execution_count": null,
   "metadata": {},
   "outputs": [],
   "source": [
    "def SimulatorWindowStartScheduling_Callback(activeTraces, A, P_AtoR, availableResources, simTime, windowDuration, fRatio, cRatio, optimizationMode):\n",
    "    return Optimization.OptimizeActiveTraces(activeTraces, A, P_AtoR, availableResources, simTime, windowDuration, fRatio, cRatio, optimizationMode)"
   ]
  },
  {
   "cell_type": "markdown",
   "metadata": {},
   "source": [
    "### Simulator Setup"
   ]
  },
  {
   "cell_type": "code",
   "execution_count": null,
   "metadata": {},
   "outputs": [],
   "source": [
    "log = pm4py.read_xes('logs/log_ResReduced.xes')\n",
    "\n",
    "\n",
    "windowNumber = 100 * math.ceil(math.sqrt(sum([len(trace) for trace in log])))\n",
    "\n",
    "# Convert XES-Events into dict {'act', 'ts', 'res', 'single', 'cid'}\n",
    "event_dict = extractor.event_dict(log, res_info=True)\n",
    "\n",
    "windowWidth = frames.get_width_from_number(event_dict, windowNumber)\n",
    "bucketId_borders_dict = frames.bucket_window_dict_by_width(event_dict, windowWidth)\n",
    "eventsPerWindowDict, id_frame_mapping = frames.bucket_id_list_dict_by_width(event_dict, windowWidth) # WindowID: [List of EventIDs] , EventID: WindowID       "
   ]
  },
  {
   "cell_type": "code",
   "execution_count": null,
   "metadata": {},
   "outputs": [],
   "source": [
    "sim = Simulator(event_dict, eventsPerWindowDict, bucketId_borders_dict, \n",
    "        simulationMode      = Callbacks.KNOWN_FUTURE,     #PREDICTED_FUTURE\n",
    "        optimizationMode    = OptimizationModes.FAIRNESS, #CONGESTION, BOTH \n",
    "        schedulingBehaviour = SchedulingBehaviour.CLEAR_ASSIGNMENTS_EACH_WINDOW, #KEEP_ASSIGNMENTS\n",
    "        endTimestampAttribute='ts', verbose=False)\n",
    "    \n",
    "sim.Register(Callbacks.WND_START_SCHEDULING, SimulatorWindowStartScheduling_Callback)\n",
    "sim.Register(Callbacks.CALC_Fairness,        SimulatorFairness_Callback)\n",
    "sim.Register(Callbacks.CALC_Congestion,      SimulatorCongestion_Callback)"
   ]
  },
  {
   "cell_type": "code",
   "execution_count": null,
   "metadata": {},
   "outputs": [],
   "source": [
    "# Run the simulation\n",
    "sim.Run()\n",
    "sim.ExportSimulationLog('logs/jupyter_Quickstart.xes')"
   ]
  }
 ],
 "metadata": {
  "kernelspec": {
   "display_name": "Python 3.9.13 ('HLEM')",
   "language": "python",
   "name": "python3"
  },
  "language_info": {
   "codemirror_mode": {
    "name": "ipython",
    "version": 3
   },
   "file_extension": ".py",
   "mimetype": "text/x-python",
   "name": "python",
   "nbconvert_exporter": "python",
   "pygments_lexer": "ipython3",
   "version": "3.9.13"
  },
  "orig_nbformat": 4,
  "vscode": {
   "interpreter": {
    "hash": "24efc547e9c742ccb40173ecb79f6c50c18c9d6d8225fce0a7b5df7f54cfba44"
   }
  }
 },
 "nbformat": 4,
 "nbformat_minor": 2
}
